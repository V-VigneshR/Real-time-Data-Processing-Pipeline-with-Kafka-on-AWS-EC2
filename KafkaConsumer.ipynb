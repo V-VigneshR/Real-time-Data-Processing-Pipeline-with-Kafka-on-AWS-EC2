{
 "cells": [
  {
   "cell_type": "code",
   "execution_count": 1,
   "id": "1cfe60f5-d605-4822-b157-66bcc8768a03",
   "metadata": {},
   "outputs": [],
   "source": [
    "from kafka import KafkaConsumer,KafkaProducer\n",
    "from time import sleep\n",
    "from json import dumps,loads\n",
    "import json \n",
    "from s3fs import S3FileSystem\n",
    "import s3fs"
   ]
  },
  {
   "cell_type": "code",
   "execution_count": 2,
   "id": "636a6c6e-a911-4442-924b-89dd186288fc",
   "metadata": {},
   "outputs": [],
   "source": [
    "consumer=KafkaConsumer(\n",
    "    'demo_testing2',\n",
    "    bootstrap_servers=['publicipofec2'],\n",
    "    value_deserializer=lambda x: loads(x.decode('utf-8')) #loading and decoding it \n",
    ")"
   ]
  },
  {
   "cell_type": "code",
   "execution_count": 3,
   "id": "1a0138fd-7201-4bb0-983c-ae88ccd02e45",
   "metadata": {},
   "outputs": [],
   "source": [
    "#for c in consumer:\n",
    "   # print(c.value)"
   ]
  },
  {
   "cell_type": "code",
   "execution_count": 5,
   "id": "52783750-2a51-41b7-9f81-00b49adc8a7b",
   "metadata": {},
   "outputs": [],
   "source": [
    "s3=S3FileSystem(key=\"accesskey\",secret=\"secretid\",client_kwargs={\"region_name\": \"you_region_name\"})"
   ]
  },
  {
   "cell_type": "code",
   "execution_count": null,
   "id": "a8942615-2f3f-4418-a9ff-95fd8365f69d",
   "metadata": {},
   "outputs": [],
   "source": [
    "for count, i in enumerate(consumer):\n",
    "    file_path = f\"s3://kafka-prod-cons-project-bucket/car_price_{count}.json\"\n",
    "    \n",
    "    with s3.open(file_path, \"w\") as file:  # Add \"w\" mode\n",
    "        json.dump(i.value, file)  # Use file here correctly"
   ]
  }
 ],
 "metadata": {
  "kernelspec": {
   "display_name": "Python 3 (ipykernel)",
   "language": "python",
   "name": "python3"
  },
  "language_info": {
   "codemirror_mode": {
    "name": "ipython",
    "version": 3
   },
   "file_extension": ".py",
   "mimetype": "text/x-python",
   "name": "python",
   "nbconvert_exporter": "python",
   "pygments_lexer": "ipython3",
   "version": "3.12.0"
  }
 },
 "nbformat": 4,
 "nbformat_minor": 5
}
